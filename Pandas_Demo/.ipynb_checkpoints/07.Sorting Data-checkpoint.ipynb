{
 "cells": [
  {
   "cell_type": "code",
   "execution_count": null,
   "id": "8c9d88cd-6e41-4066-a7f0-04664ca9ffdc",
   "metadata": {},
   "outputs": [],
   "source": [
    "people = {\n",
    "    \"first\" : [\"Corey\", \"Jane\", \"John\",'Adam'],\n",
    "    \"last\" : [\"Schafer\", \"Doe\", \"Doe\",'Doe'],\n",
    "    \"email\" : [\"CoreyMSchafer@gmail.com\", \"JaneDoe@email.com\", \"JohnDoe@email.com\",'A@gmail.com']\n",
    "}"
   ]
  },
  {
   "cell_type": "code",
   "execution_count": null,
   "id": "29b4edc7-625e-4095-b279-6164c97ec364",
   "metadata": {},
   "outputs": [],
   "source": [
    "import pandas as pd"
   ]
  },
  {
   "cell_type": "code",
   "execution_count": null,
   "id": "16f5628e-8ca3-4967-9eec-cf5aec30866b",
   "metadata": {},
   "outputs": [],
   "source": [
    "df = pd.DataFrame(people)"
   ]
  },
  {
   "cell_type": "code",
   "execution_count": null,
   "id": "1941a754-d2da-4cb4-9216-14251679f998",
   "metadata": {},
   "outputs": [],
   "source": [
    "df"
   ]
  },
  {
   "cell_type": "code",
   "execution_count": null,
   "id": "ae726288-cd78-419b-aeb9-00d12aeadca1",
   "metadata": {},
   "outputs": [],
   "source": [
    "df.sort_values(by='last',ascending=False)"
   ]
  },
  {
   "cell_type": "code",
   "execution_count": null,
   "id": "d7544dbc-d887-4e6c-aead-3bbc430ec952",
   "metadata": {},
   "outputs": [],
   "source": [
    "df.sort_values(by=['last','first'],ascending=False)"
   ]
  },
  {
   "cell_type": "code",
   "execution_count": null,
   "id": "bee474e1-7dcf-4593-96e6-b55cf35e1c0c",
   "metadata": {},
   "outputs": [],
   "source": [
    "df.sort_values(by=['last','first'],ascending=[False,True],inplace=True)"
   ]
  },
  {
   "cell_type": "code",
   "execution_count": null,
   "id": "67c8318d-bec4-4907-9efa-f1576f6e8937",
   "metadata": {},
   "outputs": [],
   "source": [
    "df"
   ]
  },
  {
   "cell_type": "code",
   "execution_count": null,
   "id": "e5d727ef-43a1-47f9-9a20-56db17b6a63c",
   "metadata": {},
   "outputs": [],
   "source": [
    "df.sort_index()"
   ]
  },
  {
   "cell_type": "code",
   "execution_count": null,
   "id": "b63fe675-6813-4943-8f5d-c6076a64677f",
   "metadata": {},
   "outputs": [],
   "source": [
    "df['last'].sort_values()"
   ]
  },
  {
   "cell_type": "markdown",
   "id": "a8b34eb8-fd11-480b-bfd1-ead503ed81b8",
   "metadata": {},
   "source": [
    "--- "
   ]
  },
  {
   "cell_type": "code",
   "execution_count": null,
   "id": "1eb694ba-aacb-47c0-996f-890123cda1b4",
   "metadata": {},
   "outputs": [],
   "source": [
    "df = pd.read_csv('data1/survey_results_public.csv')\n",
    "schema_df = pd.read_csv('data1/survey_results_schema.csv')"
   ]
  },
  {
   "cell_type": "code",
   "execution_count": null,
   "id": "7f8b9c1a-61b6-49d7-8a54-454f9270a82a",
   "metadata": {},
   "outputs": [],
   "source": [
    "pd.set_option('display.max_columns',85)\n",
    "pd.set_option('display.max_rows',85)"
   ]
  },
  {
   "cell_type": "code",
   "execution_count": null,
   "id": "85ddf56f-962e-4adf-84b8-dda9536011f2",
   "metadata": {},
   "outputs": [],
   "source": [
    "df.head()"
   ]
  },
  {
   "cell_type": "code",
   "execution_count": null,
   "id": "8190daf2-ff28-435f-89b8-a2ed5a36f93a",
   "metadata": {},
   "outputs": [],
   "source": [
    "df.sort_values(by=[\"Country\",'ConvertedComp'],ascending=[True,False],inplace=True)"
   ]
  },
  {
   "cell_type": "code",
   "execution_count": null,
   "id": "11ed2789-db97-46b1-a93e-36e5a355325e",
   "metadata": {},
   "outputs": [],
   "source": [
    "df[['Country','ConvertedComp']].head(50)"
   ]
  },
  {
   "cell_type": "code",
   "execution_count": null,
   "id": "ef560bd9-8909-4456-ab3d-9e23480cfad7",
   "metadata": {},
   "outputs": [],
   "source": [
    "df['ConvertedComp'].nlargest(10)"
   ]
  },
  {
   "cell_type": "code",
   "execution_count": null,
   "id": "82d5e6f3-0967-4870-822a-a868de971cc1",
   "metadata": {},
   "outputs": [],
   "source": [
    "df.nlargest(10,'ConvertedComp')"
   ]
  }
 ],
 "metadata": {
  "kernelspec": {
   "display_name": "Python 3 (ipykernel)",
   "language": "python",
   "name": "python3"
  },
  "language_info": {
   "codemirror_mode": {
    "name": "ipython",
    "version": 3
   },
   "file_extension": ".py",
   "mimetype": "text/x-python",
   "name": "python",
   "nbconvert_exporter": "python",
   "pygments_lexer": "ipython3",
   "version": "3.12.2"
  }
 },
 "nbformat": 4,
 "nbformat_minor": 5
}
