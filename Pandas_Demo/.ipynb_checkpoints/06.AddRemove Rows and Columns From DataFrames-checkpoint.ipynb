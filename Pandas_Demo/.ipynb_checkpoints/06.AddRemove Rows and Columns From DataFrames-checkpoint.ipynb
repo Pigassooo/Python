{
 "cells": [
  {
   "cell_type": "code",
   "execution_count": null,
   "id": "f67f6287-0feb-4d47-bc06-312b41a69c11",
   "metadata": {},
   "outputs": [],
   "source": [
    "people = {\n",
    "    \"first\" : [\"Corey\", \"Jane\", \"John\"],\n",
    "    \"last\" : [\"Schafer\", \"Doe\", \"Doe\"],\n",
    "    \"email\" : [\"CoreyMSchafer@gmail.com\", \"JaneDoe@email.com\", \"JohnDoe@email.com\"]\n",
    "}"
   ]
  },
  {
   "cell_type": "code",
   "execution_count": null,
   "id": "3a2191d5-ecfe-414e-8ace-e594ad90d44c",
   "metadata": {},
   "outputs": [],
   "source": [
    "import pandas as pd"
   ]
  },
  {
   "cell_type": "code",
   "execution_count": null,
   "id": "dd99bb2a-9aa1-4d31-85a4-2898bc92cdfe",
   "metadata": {},
   "outputs": [],
   "source": [
    "df = pd.DataFrame(people)"
   ]
  },
  {
   "cell_type": "code",
   "execution_count": null,
   "id": "f6b258dc-dc28-476d-a90d-372c4ce2ea5c",
   "metadata": {},
   "outputs": [],
   "source": [
    "df"
   ]
  },
  {
   "cell_type": "code",
   "execution_count": null,
   "id": "67d3a9b0-8479-423c-8092-63728817bf68",
   "metadata": {},
   "outputs": [],
   "source": [
    "df['first'] + ' ' + df['last']  "
   ]
  },
  {
   "cell_type": "code",
   "execution_count": null,
   "id": "dd30e416-f4be-498a-a787-76cffd49a08f",
   "metadata": {},
   "outputs": [],
   "source": [
    "df['full_name'] = df['first'] + ' ' + df['last']  "
   ]
  },
  {
   "cell_type": "code",
   "execution_count": null,
   "id": "3d08773c-27c0-4c44-9941-13034c88e540",
   "metadata": {},
   "outputs": [],
   "source": [
    "df"
   ]
  },
  {
   "cell_type": "code",
   "execution_count": null,
   "id": "205fe728-f09e-4f1f-abf1-93c3c75c7669",
   "metadata": {},
   "outputs": [],
   "source": [
    "df.drop(columns=['first','last'],inplace=True)"
   ]
  },
  {
   "cell_type": "code",
   "execution_count": null,
   "id": "06ed496e-a982-4fba-bd83-bac6adbf0493",
   "metadata": {},
   "outputs": [],
   "source": [
    "df"
   ]
  },
  {
   "cell_type": "code",
   "execution_count": null,
   "id": "16931fea-0b31-4652-b902-2cd60efb9db8",
   "metadata": {},
   "outputs": [],
   "source": [
    "df['full_name'].str.split(' ',expand=True)"
   ]
  },
  {
   "cell_type": "code",
   "execution_count": null,
   "id": "8bb9abaf-7bdb-496e-8fec-6c03dce70f0b",
   "metadata": {},
   "outputs": [],
   "source": [
    "df[['first','last']] = df['full_name'].str.split(' ',expand=True)"
   ]
  },
  {
   "cell_type": "code",
   "execution_count": null,
   "id": "e71e33a7-8464-4958-8622-3080b3959d53",
   "metadata": {},
   "outputs": [],
   "source": [
    "df"
   ]
  },
  {
   "cell_type": "code",
   "execution_count": null,
   "id": "43a580c4-2d60-4228-9111-0d3d7c61c2fe",
   "metadata": {},
   "outputs": [],
   "source": [
    "df = df.append({'first': 'Tony'}, ignore_index=True)\n",
    "df"
   ]
  },
  {
   "cell_type": "code",
   "execution_count": null,
   "id": "6a342e20-2d96-4f1a-a125-8155f9a8f553",
   "metadata": {},
   "outputs": [],
   "source": []
  },
  {
   "cell_type": "code",
   "execution_count": null,
   "id": "472f2b30-f4f1-48dd-b10b-636d6503a379",
   "metadata": {},
   "outputs": [],
   "source": [
    "print(type(df))"
   ]
  },
  {
   "cell_type": "code",
   "execution_count": null,
   "id": "661a2237-c7b2-4cbe-877a-675d484e61cc",
   "metadata": {},
   "outputs": [],
   "source": [
    "people = {\n",
    "    \"first\" : [\"Tony\", \"Steve\"],\n",
    "    \"last\" : [\"Stark\", \"Rogers\"],\n",
    "    \"email\" : [\"IronMan@avenge.com\", \"Cap@avenge.com\"]\n",
    "}\n",
    "df2 = pd.DataFrame(people)"
   ]
  },
  {
   "cell_type": "code",
   "execution_count": null,
   "id": "f24b2218-9a59-4890-9c64-a6cac828091a",
   "metadata": {},
   "outputs": [],
   "source": [
    "df2"
   ]
  },
  {
   "cell_type": "code",
   "execution_count": null,
   "id": "d62664d1-d4ea-4658-be4b-fecf2b9a1523",
   "metadata": {},
   "outputs": [],
   "source": [
    "df3 = pd.concat([df, df2], ignore_index=True)"
   ]
  },
  {
   "cell_type": "code",
   "execution_count": null,
   "id": "e63afea7-ce82-40eb-9c88-d2154dcc4eed",
   "metadata": {},
   "outputs": [],
   "source": [
    "df3.drop(index=4)"
   ]
  },
  {
   "cell_type": "code",
   "execution_count": null,
   "id": "3392024c-cf1a-47f8-a418-e294a06cf42b",
   "metadata": {},
   "outputs": [],
   "source": [
    "filt = df['last']=='Doe'\n",
    "df3.drop(index=df[filt].index)"
   ]
  }
 ],
 "metadata": {
  "kernelspec": {
   "display_name": "Python 3 (ipykernel)",
   "language": "python",
   "name": "python3"
  },
  "language_info": {
   "codemirror_mode": {
    "name": "ipython",
    "version": 3
   },
   "file_extension": ".py",
   "mimetype": "text/x-python",
   "name": "python",
   "nbconvert_exporter": "python",
   "pygments_lexer": "ipython3",
   "version": "3.12.2"
  }
 },
 "nbformat": 4,
 "nbformat_minor": 5
}
