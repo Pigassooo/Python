{
 "cells": [
  {
   "cell_type": "code",
   "execution_count": null,
   "id": "148de2f0-9e67-45ac-bf59-81cd3a5fd978",
   "metadata": {},
   "outputs": [],
   "source": [
    "import pandas as pd"
   ]
  },
  {
   "cell_type": "code",
   "execution_count": null,
   "id": "6a35984b-ffcf-450d-b8b0-4a85f249934e",
   "metadata": {},
   "outputs": [],
   "source": [
    "df = pd.read_csv('data1/survey_results_public.csv')\n",
    "schema_df = pd.read_csv('data1/survey_results_schema.csv')"
   ]
  },
  {
   "cell_type": "code",
   "execution_count": null,
   "id": "2cfb8632-1d75-43ba-8859-1bd2e5775849",
   "metadata": {},
   "outputs": [],
   "source": [
    "pd.set_option('display.max_columns',85)\n",
    "pd.set_option('display.max_rows',85)"
   ]
  },
  {
   "cell_type": "code",
   "execution_count": null,
   "id": "8df386b6-6cb6-4976-b9b9-cd1211c395d1",
   "metadata": {},
   "outputs": [],
   "source": [
    "df.head()"
   ]
  },
  {
   "cell_type": "code",
   "execution_count": null,
   "id": "59498884-e01a-4f24-8728-4e5803fef8a6",
   "metadata": {},
   "outputs": [],
   "source": [
    "schema_df"
   ]
  },
  {
   "cell_type": "code",
   "execution_count": null,
   "id": "ddc45cad-ceca-4391-a8cb-a10f126c912d",
   "metadata": {},
   "outputs": [],
   "source": [
    "people = {\n",
    "    \"first\" : [\"Corey\", \"Jane\", \"John\"],\n",
    "    \"last\" : [\"Schafer\", \"Doe\", \"Doe\"],\n",
    "    \"email\" : [\"CoreyMSchafer@gmail.com\", \"JaneDoe@email.com\", \"JohnDoe@email.com\"]\n",
    "}"
   ]
  },
  {
   "cell_type": "code",
   "execution_count": null,
   "id": "f1c40cbd-5f2d-4e0c-853c-96f95e8107a6",
   "metadata": {},
   "outputs": [],
   "source": [
    "dfe = pd.DataFrame(people)"
   ]
  },
  {
   "cell_type": "code",
   "execution_count": null,
   "id": "8508acdd-6d50-4843-8bbc-74bce6ff2ea0",
   "metadata": {},
   "outputs": [],
   "source": [
    "dfe"
   ]
  },
  {
   "cell_type": "code",
   "execution_count": null,
   "id": "bd4e4973-e35a-49a8-8fbc-c2f0cecf9767",
   "metadata": {},
   "outputs": [],
   "source": [
    "dfe['email']"
   ]
  },
  {
   "cell_type": "code",
   "execution_count": null,
   "id": "f5c1b575-46cb-4056-8596-a73a9144e291",
   "metadata": {},
   "outputs": [],
   "source": [
    "dfe.email"
   ]
  },
  {
   "cell_type": "code",
   "execution_count": null,
   "id": "7181a7b8-55aa-4056-aae8-a4b150ca4d75",
   "metadata": {},
   "outputs": [],
   "source": [
    "dfe[['last','email']]"
   ]
  },
  {
   "cell_type": "code",
   "execution_count": null,
   "id": "37485f3f-57a2-4b2d-9b69-5492cc68199e",
   "metadata": {},
   "outputs": [],
   "source": [
    "dfe.columns"
   ]
  },
  {
   "cell_type": "code",
   "execution_count": null,
   "id": "7dccef8d-3581-4d36-8a8c-df722c69bb95",
   "metadata": {},
   "outputs": [],
   "source": [
    "dfe.iloc[[0,1], 2]"
   ]
  },
  {
   "cell_type": "code",
   "execution_count": null,
   "id": "3c86efdc-4af2-4a12-b256-c27a3507c160",
   "metadata": {},
   "outputs": [],
   "source": [
    "dfe"
   ]
  },
  {
   "cell_type": "code",
   "execution_count": null,
   "id": "6e8ce5a2-0dc9-41ac-8c78-1f91f2854f47",
   "metadata": {},
   "outputs": [],
   "source": [
    "dfe.loc[0]"
   ]
  },
  {
   "cell_type": "code",
   "execution_count": null,
   "id": "004bad95-ce5c-4e5b-b268-de8a15e7f67e",
   "metadata": {},
   "outputs": [],
   "source": [
    "df.columns"
   ]
  },
  {
   "cell_type": "code",
   "execution_count": null,
   "id": "a606ede6-6bd3-4713-abb3-cd4a86da05d6",
   "metadata": {},
   "outputs": [],
   "source": [
    "df['Hobbyist'].value_counts()"
   ]
  },
  {
   "cell_type": "code",
   "execution_count": null,
   "id": "040a591e-0aeb-4fd6-a2ec-a00b5958eeb7",
   "metadata": {},
   "outputs": [],
   "source": [
    "df.loc[0]"
   ]
  },
  {
   "cell_type": "code",
   "execution_count": null,
   "id": "3e4d1040-8caa-4b1a-9b98-72ade852c3e9",
   "metadata": {},
   "outputs": [],
   "source": [
    "df.loc[0, 'Hobbyist']"
   ]
  },
  {
   "cell_type": "code",
   "execution_count": null,
   "id": "33e5ce99-e9f9-4667-b94b-489870041d60",
   "metadata": {},
   "outputs": [],
   "source": [
    "df.loc[[0,1,2], 'Hobbyist']"
   ]
  },
  {
   "cell_type": "code",
   "execution_count": null,
   "id": "4438ed73-ab7e-484d-b0ce-eabf98627d1e",
   "metadata": {},
   "outputs": [],
   "source": [
    "df.loc[0:2, 'Hobbyist']"
   ]
  },
  {
   "cell_type": "code",
   "execution_count": null,
   "id": "cc5eb0b7-d53d-462d-a767-3a86ddafd8e3",
   "metadata": {},
   "outputs": [],
   "source": [
    "df.loc[0:2, 'Hobbyist':'Employment']"
   ]
  }
 ],
 "metadata": {
  "kernelspec": {
   "display_name": "Python 3 (ipykernel)",
   "language": "python",
   "name": "python3"
  },
  "language_info": {
   "codemirror_mode": {
    "name": "ipython",
    "version": 3
   },
   "file_extension": ".py",
   "mimetype": "text/x-python",
   "name": "python",
   "nbconvert_exporter": "python",
   "pygments_lexer": "ipython3",
   "version": "3.12.2"
  }
 },
 "nbformat": 4,
 "nbformat_minor": 5
}
