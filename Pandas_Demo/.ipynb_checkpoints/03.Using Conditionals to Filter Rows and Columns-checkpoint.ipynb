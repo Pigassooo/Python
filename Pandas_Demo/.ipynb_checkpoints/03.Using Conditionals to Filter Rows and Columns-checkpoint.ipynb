{
 "cells": [
  {
   "cell_type": "code",
   "execution_count": null,
   "id": "dda11495-1ec7-4023-a100-dce9331e1aa4",
   "metadata": {},
   "outputs": [],
   "source": [
    "people = {\n",
    "    \"first\" : [\"Corey\", \"Jane\", \"John\"],\n",
    "    \"last\" : [\"Schafer\", \"Doe\", \"Doe\"],\n",
    "    \"email\" : [\"CoreyMSchafer@gmail.com\", \"JaneDoe@email.com\", \"JohnDoe@email.com\"]\n",
    "}"
   ]
  },
  {
   "cell_type": "code",
   "execution_count": null,
   "id": "d448e583-b19d-42ff-9cb3-18df4c274a19",
   "metadata": {},
   "outputs": [],
   "source": [
    "import pandas as pd"
   ]
  },
  {
   "cell_type": "code",
   "execution_count": null,
   "id": "85582595-663f-4259-b245-7e5b16f5b821",
   "metadata": {},
   "outputs": [],
   "source": [
    "df = pd.DataFrame(people)"
   ]
  },
  {
   "cell_type": "code",
   "execution_count": null,
   "id": "416a59e7-72e7-41e3-aea8-3b1128cad653",
   "metadata": {},
   "outputs": [],
   "source": [
    "df"
   ]
  },
  {
   "cell_type": "code",
   "execution_count": null,
   "id": "af650e6e-865a-4773-a76f-697ef06a1744",
   "metadata": {},
   "outputs": [],
   "source": [
    "filt = (df['last'] == 'Doe')"
   ]
  },
  {
   "cell_type": "code",
   "execution_count": null,
   "id": "318acd80-3ea3-4ecb-aff1-673d0cb2354c",
   "metadata": {
    "scrolled": true
   },
   "outputs": [],
   "source": [
    "df[filt]"
   ]
  },
  {
   "cell_type": "code",
   "execution_count": null,
   "id": "a4f50fdf-99fe-4c26-b8ff-770864477565",
   "metadata": {},
   "outputs": [],
   "source": [
    "df.loc[filt, 'email']"
   ]
  },
  {
   "cell_type": "code",
   "execution_count": null,
   "id": "98525a7b-d490-431b-8a85-a90ebdf625eb",
   "metadata": {},
   "outputs": [],
   "source": [
    "filt = (df['last'] == 'Doe') & (df['first'] == 'John')"
   ]
  },
  {
   "cell_type": "code",
   "execution_count": null,
   "id": "bd3038ca-4620-4222-ba87-fb39feb32e6f",
   "metadata": {},
   "outputs": [],
   "source": [
    "df.loc[filt, 'email']"
   ]
  },
  {
   "cell_type": "code",
   "execution_count": null,
   "id": "5cbfe772-5774-4f5d-82ce-3ebcebc112cb",
   "metadata": {},
   "outputs": [],
   "source": [
    "df = pd.read_csv('data1/survey_results_public.csv')\n",
    "schema_df = pd.read_csv('data1/survey_results_schema.csv')"
   ]
  },
  {
   "cell_type": "code",
   "execution_count": null,
   "id": "e964493a-9f48-4a11-bbda-876f4b02e4ed",
   "metadata": {},
   "outputs": [],
   "source": [
    "pd.set_option('display.max_columns',85)\n",
    "pd.set_option('display.max_rows',85)"
   ]
  },
  {
   "cell_type": "code",
   "execution_count": null,
   "id": "34b912fd-94ce-4aaf-a6f2-3146312b2ba5",
   "metadata": {},
   "outputs": [],
   "source": [
    "df.head()"
   ]
  },
  {
   "cell_type": "code",
   "execution_count": null,
   "id": "6c738f8f-2078-4f79-943d-59674d135a2d",
   "metadata": {},
   "outputs": [],
   "source": [
    "high_workHrs = (df['WorkWeekHrs'] > 45)"
   ]
  },
  {
   "cell_type": "code",
   "execution_count": null,
   "id": "bbcc471d-63fa-428e-ac74-293a07f329d5",
   "metadata": {},
   "outputs": [],
   "source": [
    "df.loc[high_workHrs]"
   ]
  },
  {
   "cell_type": "code",
   "execution_count": null,
   "id": "6aac093c-7023-4561-a707-5ba547ed1043",
   "metadata": {},
   "outputs": [],
   "source": [
    "countries = ['United States', 'India', 'United Kingdom', 'Germany', 'Canada']\n",
    "filt = df['Country'].isin(countries)"
   ]
  },
  {
   "cell_type": "code",
   "execution_count": null,
   "id": "7dd97a5f-505b-40fb-81cf-0e60db75615c",
   "metadata": {},
   "outputs": [],
   "source": [
    "df.loc[filt,'Country']"
   ]
  },
  {
   "cell_type": "code",
   "execution_count": null,
   "id": "fa1c86f2-6c59-4242-a3fc-ce93ce618321",
   "metadata": {},
   "outputs": [],
   "source": [
    "filt = df['LanguageWorkedWith'].str.contains('Python',na=False)"
   ]
  },
  {
   "cell_type": "code",
   "execution_count": null,
   "id": "3bc9bc15-f5f0-4d48-b70a-216baa09a433",
   "metadata": {},
   "outputs": [],
   "source": [
    "df.loc[filt,'LanguageWorkedWith']"
   ]
  },
  {
   "cell_type": "code",
   "execution_count": null,
   "id": "7f56d7e0-73c3-4b21-9c3b-060dc06e785d",
   "metadata": {},
   "outputs": [],
   "source": [
    "filt"
   ]
  }
 ],
 "metadata": {
  "kernelspec": {
   "display_name": "Python 3 (ipykernel)",
   "language": "python",
   "name": "python3"
  },
  "language_info": {
   "codemirror_mode": {
    "name": "ipython",
    "version": 3
   },
   "file_extension": ".py",
   "mimetype": "text/x-python",
   "name": "python",
   "nbconvert_exporter": "python",
   "pygments_lexer": "ipython3",
   "version": "3.12.2"
  }
 },
 "nbformat": 4,
 "nbformat_minor": 5
}
