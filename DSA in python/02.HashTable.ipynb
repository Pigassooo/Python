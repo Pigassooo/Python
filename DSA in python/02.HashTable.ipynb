{
 "cells": [
  {
   "cell_type": "markdown",
   "id": "95ab9057-ad66-4c67-b95e-1c14ee83712d",
   "metadata": {},
   "source": [
    "## Collision Handling In Hash Table"
   ]
  },
  {
   "cell_type": "code",
   "execution_count": 6,
   "id": "3c58491b-48d3-4fde-975a-f9a061eb9e72",
   "metadata": {},
   "outputs": [],
   "source": [
    "class HashTable:\n",
    "    def __init__(self):\n",
    "        self.MAX = 10\n",
    "        self.arr = [[] for i in range(self.MAX)]\n",
    "    def get_hash(self, key):\n",
    "        h = 0\n",
    "        for char in key:\n",
    "            h += ord(char)\n",
    "        return h % self.MAX\n",
    "\n",
    "    def __setitem__(self, key, val):\n",
    "        h = self.get_hash(key)\n",
    "        found = False\n",
    "        for index, element in enumerate(self.arr[h]):\n",
    "            if len(element) == 2 and element[0] == key:\n",
    "                self.arr[h][index] = (key,val)\n",
    "                found = True\n",
    "                break\n",
    "        if not found:\n",
    "            self.arr[h].append((key,val))\n",
    "\n",
    "    def __getitem__(self, key):\n",
    "        h = self.get_hash(key)\n",
    "        for element in self.arr[h]:\n",
    "            if element[0] == key:\n",
    "                return element[1]\n",
    "\n",
    "    def __delitem__(self,key):\n",
    "        h "
   ]
  },
  {
   "cell_type": "code",
   "execution_count": 7,
   "id": "b11ef67d-5365-4262-ada7-77ad609cd4e2",
   "metadata": {},
   "outputs": [],
   "source": [
    "t = HashTable()"
   ]
  },
  {
   "cell_type": "code",
   "execution_count": 11,
   "id": "f223b21d-ff22-4466-a14a-3447b8015eed",
   "metadata": {},
   "outputs": [],
   "source": [
    "t['march 6'] = 120\n",
    "t['march 6'] = 78\n",
    "t['march 8'] = 67\n",
    "t['march 9'] = 4\n",
    "t['march 17'] = 459"
   ]
  },
  {
   "cell_type": "code",
   "execution_count": 12,
   "id": "e3e18021-ff14-44ba-86cd-e054159d78e9",
   "metadata": {},
   "outputs": [
    {
     "data": {
      "text/plain": [
       "78"
      ]
     },
     "execution_count": 12,
     "metadata": {},
     "output_type": "execute_result"
    }
   ],
   "source": [
    "t['march 6']"
   ]
  },
  {
   "cell_type": "code",
   "execution_count": 13,
   "id": "e1bf8bcf-98c0-4e7e-a385-992d18fc5136",
   "metadata": {},
   "outputs": [
    {
     "data": {
      "text/plain": [
       "[[],\n",
       " [('march 8', 67)],\n",
       " [('march 9', 4)],\n",
       " [],\n",
       " [],\n",
       " [],\n",
       " [],\n",
       " [],\n",
       " [],\n",
       " [('march 6', 78), ('march 17', 459)]]"
      ]
     },
     "execution_count": 13,
     "metadata": {},
     "output_type": "execute_result"
    }
   ],
   "source": [
    "t.arr"
   ]
  },
  {
   "cell_type": "code",
   "execution_count": null,
   "id": "b0d77976-e518-4d80-bd06-82721530662e",
   "metadata": {},
   "outputs": [],
   "source": []
  }
 ],
 "metadata": {
  "kernelspec": {
   "display_name": "Python 3 (ipykernel)",
   "language": "python",
   "name": "python3"
  },
  "language_info": {
   "codemirror_mode": {
    "name": "ipython",
    "version": 3
   },
   "file_extension": ".py",
   "mimetype": "text/x-python",
   "name": "python",
   "nbconvert_exporter": "python",
   "pygments_lexer": "ipython3",
   "version": "3.12.2"
  }
 },
 "nbformat": 4,
 "nbformat_minor": 5
}
