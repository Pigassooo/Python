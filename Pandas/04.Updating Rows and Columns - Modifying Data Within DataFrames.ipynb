{
 "cells": [
  {
   "cell_type": "code",
   "execution_count": null,
   "id": "2bfd163b-dc97-4568-b171-c9edc29ed171",
   "metadata": {},
   "outputs": [],
   "source": [
    "people = {\n",
    "    \"first\" : [\"Corey\", \"Jane\", \"John\"],\n",
    "    \"last\" : [\"Schafer\", \"Doe\", \"Doe\"],\n",
    "    \"email\" : [\"CoreyMSchafer@gmail.com\", \"JaneDoe@email.com\", \"JohnDoe@email.com\"]\n",
    "}"
   ]
  },
  {
   "cell_type": "code",
   "execution_count": null,
   "id": "b55a2b61-766e-4738-ada7-3c6642882a2d",
   "metadata": {},
   "outputs": [],
   "source": [
    "import pandas as pd"
   ]
  },
  {
   "cell_type": "code",
   "execution_count": null,
   "id": "63cfadf2-c399-434f-b239-80708539d9ee",
   "metadata": {},
   "outputs": [],
   "source": [
    "df = pd.DataFrame(people)"
   ]
  },
  {
   "cell_type": "code",
   "execution_count": null,
   "id": "f468fc41-7ffc-4a3a-ad4a-b7ad7dbf4069",
   "metadata": {},
   "outputs": [],
   "source": [
    "df"
   ]
  },
  {
   "cell_type": "code",
   "execution_count": null,
   "id": "f9359dde-e4be-43e1-a7e0-36518b28a7e0",
   "metadata": {},
   "outputs": [],
   "source": [
    "df.columns"
   ]
  },
  {
   "cell_type": "code",
   "execution_count": null,
   "id": "72758c74-ca87-4b9e-a215-2f937808e7a4",
   "metadata": {},
   "outputs": [],
   "source": [
    "df.columns = ['First_name', 'Last_name', 'Email']"
   ]
  },
  {
   "cell_type": "code",
   "execution_count": null,
   "id": "79746693-4608-4d43-971d-ce9c715a6891",
   "metadata": {},
   "outputs": [],
   "source": [
    "df"
   ]
  },
  {
   "cell_type": "code",
   "execution_count": null,
   "id": "3ec6dc89-be10-4fca-9fce-8c7e0e4f491f",
   "metadata": {},
   "outputs": [],
   "source": [
    "df.columns = [x.lower() for x in df.columns]"
   ]
  },
  {
   "cell_type": "code",
   "execution_count": null,
   "id": "d672d3cb-bb52-48b0-b697-699804038de0",
   "metadata": {},
   "outputs": [],
   "source": [
    "df"
   ]
  },
  {
   "cell_type": "code",
   "execution_count": null,
   "id": "6f445c33-603f-458d-b935-b8c1293fc1d6",
   "metadata": {},
   "outputs": [],
   "source": [
    "df.columns = df.columns.str.replace(' ','_')"
   ]
  },
  {
   "cell_type": "code",
   "execution_count": null,
   "id": "122e7232-336f-4015-b73d-35ab1582719d",
   "metadata": {},
   "outputs": [],
   "source": [
    "df"
   ]
  },
  {
   "cell_type": "code",
   "execution_count": null,
   "id": "85e1b0da-71a4-4780-abd7-493f0ff39c68",
   "metadata": {},
   "outputs": [],
   "source": [
    "df.rename(columns={'first_name': 'first','last_name':'last'},inplace=True)"
   ]
  },
  {
   "cell_type": "code",
   "execution_count": null,
   "id": "02c23b0a-e6cd-4736-909c-96f6838e2b6d",
   "metadata": {},
   "outputs": [],
   "source": [
    "df.loc[2] = ['John','Smith','JohnSmith@email.com']"
   ]
  },
  {
   "cell_type": "code",
   "execution_count": null,
   "id": "dd26fa4f-f55b-42ff-adca-1dbf64a81d4d",
   "metadata": {},
   "outputs": [],
   "source": [
    "df"
   ]
  },
  {
   "cell_type": "code",
   "execution_count": null,
   "id": "babde472-b0eb-4579-9b2e-257d76171ec0",
   "metadata": {},
   "outputs": [],
   "source": [
    "df.loc[2,['last','email']] = ['Doe','JohnDoe@email.com']"
   ]
  },
  {
   "cell_type": "code",
   "execution_count": null,
   "id": "ea94cc19-e860-4844-869c-e5f214ee6433",
   "metadata": {},
   "outputs": [],
   "source": [
    "df"
   ]
  },
  {
   "cell_type": "code",
   "execution_count": null,
   "id": "ffeaecf3-134c-46a5-a4ed-ea50bb944a50",
   "metadata": {},
   "outputs": [],
   "source": [
    "df.loc[2,'last'] = 'Smith'"
   ]
  },
  {
   "cell_type": "code",
   "execution_count": null,
   "id": "6ed5bde7-c570-42ba-9259-42a7f69a937b",
   "metadata": {},
   "outputs": [],
   "source": [
    "df"
   ]
  },
  {
   "cell_type": "code",
   "execution_count": null,
   "id": "163ffd28-48d4-4ead-8246-d93efbdd07e3",
   "metadata": {},
   "outputs": [],
   "source": [
    "df.at[2,'last'] = 'Doe'"
   ]
  },
  {
   "cell_type": "code",
   "execution_count": null,
   "id": "bf7425d2-c0d0-4540-98d2-f4d19658810e",
   "metadata": {},
   "outputs": [],
   "source": [
    "df"
   ]
  },
  {
   "cell_type": "code",
   "execution_count": null,
   "id": "549ae245-2593-45f3-af74-1a6330afb921",
   "metadata": {},
   "outputs": [],
   "source": [
    "filt = (df['email'] == 'JohnDoe@email.com')"
   ]
  },
  {
   "cell_type": "code",
   "execution_count": null,
   "id": "c76b387d-b1fe-4d9b-a832-3c1f209d3010",
   "metadata": {},
   "outputs": [],
   "source": [
    "df[filt]['last']"
   ]
  },
  {
   "cell_type": "code",
   "execution_count": null,
   "id": "7792615b-3892-4fbf-a1b9-eff907789333",
   "metadata": {},
   "outputs": [],
   "source": [
    "df[filt]['last'] = 'Smith'"
   ]
  },
  {
   "cell_type": "code",
   "execution_count": null,
   "id": "655a80c4-231f-4b6d-a983-b5b899e0b3dc",
   "metadata": {},
   "outputs": [],
   "source": [
    "df"
   ]
  },
  {
   "cell_type": "code",
   "execution_count": null,
   "id": "c0777a6b-c119-4126-ab26-e4684f025352",
   "metadata": {},
   "outputs": [],
   "source": [
    "df.loc[filt,'last'] = 'Smith'"
   ]
  },
  {
   "cell_type": "code",
   "execution_count": null,
   "id": "82e0e443-6f4f-4159-a105-d1066e1bed1a",
   "metadata": {},
   "outputs": [],
   "source": [
    "df"
   ]
  },
  {
   "cell_type": "code",
   "execution_count": null,
   "id": "d47e6d97-ae6f-47e7-8a03-e240f723bf47",
   "metadata": {},
   "outputs": [],
   "source": [
    "df['email'] = df['email'].str.lower()"
   ]
  },
  {
   "cell_type": "code",
   "execution_count": null,
   "id": "3551d3e2-ae87-4513-9650-d45298c0daab",
   "metadata": {},
   "outputs": [],
   "source": [
    "df"
   ]
  },
  {
   "cell_type": "markdown",
   "id": "9283111b-354e-49de-a721-193acc84d1d6",
   "metadata": {},
   "source": [
    "- apply\n",
    "- map\n",
    "- applymap\n",
    "- replace"
   ]
  },
  {
   "cell_type": "code",
   "execution_count": null,
   "id": "ce4f0637-737e-4982-bec2-34955848a9af",
   "metadata": {},
   "outputs": [],
   "source": [
    "df['email'].apply(len)"
   ]
  },
  {
   "cell_type": "code",
   "execution_count": null,
   "id": "0e6d4e62-9cad-4178-851b-7aceba6e6f8c",
   "metadata": {},
   "outputs": [],
   "source": [
    "def update_email(email):\n",
    "    return email.upper()"
   ]
  },
  {
   "cell_type": "code",
   "execution_count": null,
   "id": "887996e7-72a1-4a03-92b3-d0ff622e2f6b",
   "metadata": {},
   "outputs": [],
   "source": [
    "df['email'] = df['email'].apply(update_email)"
   ]
  },
  {
   "cell_type": "code",
   "execution_count": null,
   "id": "73d65adb-4ef3-473d-a22c-2807fcf8c5f9",
   "metadata": {},
   "outputs": [],
   "source": [
    "df"
   ]
  },
  {
   "cell_type": "code",
   "execution_count": null,
   "id": "876824dc-cff2-4f3d-b6e7-02763fec08ad",
   "metadata": {},
   "outputs": [],
   "source": [
    "df['email'] = df['email'].apply(lambda x:x.lower())"
   ]
  },
  {
   "cell_type": "code",
   "execution_count": null,
   "id": "0a74cffc-6ad1-430b-993b-ac93650d48d7",
   "metadata": {},
   "outputs": [],
   "source": [
    "df"
   ]
  },
  {
   "cell_type": "code",
   "execution_count": null,
   "id": "4a002d6e-6c77-4419-ab0f-6d73a1a0ee41",
   "metadata": {},
   "outputs": [],
   "source": [
    "df.apply(len,axis='columns')"
   ]
  },
  {
   "cell_type": "code",
   "execution_count": null,
   "id": "73b35350-5448-47c0-a43b-1a24303ea55a",
   "metadata": {},
   "outputs": [],
   "source": [
    "len(df['email'])"
   ]
  },
  {
   "cell_type": "code",
   "execution_count": null,
   "id": "ba8314c8-222d-4862-ba08-94d9e628cd48",
   "metadata": {},
   "outputs": [],
   "source": [
    "df.apply(pd.Series.min)"
   ]
  },
  {
   "cell_type": "code",
   "execution_count": null,
   "id": "713c20ed-141d-4c98-871c-68b841f74ce4",
   "metadata": {},
   "outputs": [],
   "source": [
    "df.apply(lambda x:x.min())"
   ]
  },
  {
   "cell_type": "code",
   "execution_count": null,
   "id": "2b9b4c8a-acd3-4e2c-b8c0-98a70da525e2",
   "metadata": {},
   "outputs": [],
   "source": [
    "df.applymap(len)"
   ]
  },
  {
   "cell_type": "code",
   "execution_count": null,
   "id": "89593388-8899-45fd-b835-c86757e528c9",
   "metadata": {},
   "outputs": [],
   "source": [
    "df.map(str.lower)"
   ]
  },
  {
   "cell_type": "code",
   "execution_count": null,
   "id": "a36cbe61-790a-446d-97e4-c0129067a0d0",
   "metadata": {},
   "outputs": [],
   "source": [
    "df['first'].map({'Corey':'Chris','Jane':'Mary'})"
   ]
  },
  {
   "cell_type": "code",
   "execution_count": null,
   "id": "d3f3d152-1225-4c72-a06e-7fe9127589a8",
   "metadata": {},
   "outputs": [],
   "source": [
    "df['first']"
   ]
  },
  {
   "cell_type": "code",
   "execution_count": null,
   "id": "c858f662-abf5-47ee-bfc4-78113988fef4",
   "metadata": {},
   "outputs": [],
   "source": [
    "df['first'].replace({'Corey':'Chris','Jane':'Mary'})"
   ]
  },
  {
   "cell_type": "code",
   "execution_count": null,
   "id": "159ae30f-604a-4e25-a177-f01a9c3b9b1d",
   "metadata": {},
   "outputs": [],
   "source": [
    "df['first'] = df['first'].replace({'Corey':'Chris','Jane':'Mary'})"
   ]
  },
  {
   "cell_type": "code",
   "execution_count": null,
   "id": "4d7f2608-a554-43d3-be02-721970b2875e",
   "metadata": {},
   "outputs": [],
   "source": [
    "df"
   ]
  },
  {
   "cell_type": "markdown",
   "id": "ca65851f-739e-4c12-ac2f-e62d3c0684f1",
   "metadata": {},
   "source": [
    "--- "
   ]
  },
  {
   "cell_type": "code",
   "execution_count": null,
   "id": "193d2db4-47a8-4efc-8d95-a1065253a61f",
   "metadata": {},
   "outputs": [],
   "source": [
    "import pandas as pd"
   ]
  },
  {
   "cell_type": "code",
   "execution_count": null,
   "id": "cfffcffc-237a-4d81-9ad9-dba2ce7eb107",
   "metadata": {},
   "outputs": [],
   "source": [
    "df = pd.read_csv('data1/survey_results_public.csv')\n",
    "schema_df = pd.read_csv('data1/survey_results_schema.csv')"
   ]
  },
  {
   "cell_type": "code",
   "execution_count": null,
   "id": "243a92e3-99df-4b8e-8738-632f8acb0a6a",
   "metadata": {},
   "outputs": [],
   "source": [
    "pd.set_option('display.max_columns',85)\n",
    "pd.set_option('display.max_rows',85)"
   ]
  },
  {
   "cell_type": "code",
   "execution_count": null,
   "id": "c550c0c8-1ded-44ce-a54f-1f304f496ab7",
   "metadata": {},
   "outputs": [],
   "source": [
    "df.head()"
   ]
  },
  {
   "cell_type": "code",
   "execution_count": null,
   "id": "b97bd50b-f4ef-4b64-be51-f5de15781b44",
   "metadata": {},
   "outputs": [],
   "source": [
    "df.rename(columns={'ConvertedComp' : 'SalaryUSD'},inplace= True)"
   ]
  },
  {
   "cell_type": "code",
   "execution_count": null,
   "id": "202af621-df96-4439-a205-4445138d291e",
   "metadata": {},
   "outputs": [],
   "source": [
    "df"
   ]
  },
  {
   "cell_type": "code",
   "execution_count": null,
   "id": "e85fdcca-3244-4ef5-a71a-bd2925f529a2",
   "metadata": {},
   "outputs": [],
   "source": [
    "df['SalaryUSD']"
   ]
  },
  {
   "cell_type": "code",
   "execution_count": null,
   "id": "764dfdd3-51fc-4954-926a-67f6c3b1ebe7",
   "metadata": {},
   "outputs": [],
   "source": [
    "df['Hobbyist']"
   ]
  },
  {
   "cell_type": "code",
   "execution_count": null,
   "id": "25138d33-2fd3-4146-b0a9-6e6cb5b98f1c",
   "metadata": {},
   "outputs": [],
   "source": [
    "df['Hobbyist'].map({'Yes':True,'No':False})"
   ]
  },
  {
   "cell_type": "code",
   "execution_count": null,
   "id": "b291a426-db66-45be-8f91-cd754693f598",
   "metadata": {},
   "outputs": [],
   "source": [
    "df['Hobbyist'] = df['Hobbyist'].map({'Yes':True,'No':False})"
   ]
  },
  {
   "cell_type": "code",
   "execution_count": null,
   "id": "1a1912f8-33d7-46f3-b8a8-b3b9a6297268",
   "metadata": {},
   "outputs": [],
   "source": [
    "df"
   ]
  }
 ],
 "metadata": {
  "kernelspec": {
   "display_name": "Python 3 (ipykernel)",
   "language": "python",
   "name": "python3"
  },
  "language_info": {
   "codemirror_mode": {
    "name": "ipython",
    "version": 3
   },
   "file_extension": ".py",
   "mimetype": "text/x-python",
   "name": "python",
   "nbconvert_exporter": "python",
   "pygments_lexer": "ipython3",
   "version": "3.12.2"
  }
 },
 "nbformat": 4,
 "nbformat_minor": 5
}
