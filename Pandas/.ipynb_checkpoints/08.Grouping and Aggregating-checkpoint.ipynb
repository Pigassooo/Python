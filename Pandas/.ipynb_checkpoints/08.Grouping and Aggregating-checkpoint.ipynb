{
 "cells": [
  {
   "cell_type": "code",
   "execution_count": null,
   "id": "909b4a81-361c-4b6f-9b63-157a802cc2d0",
   "metadata": {},
   "outputs": [],
   "source": [
    "import pandas as pd"
   ]
  },
  {
   "cell_type": "code",
   "execution_count": null,
   "id": "3cc1ca3e-2fed-42ae-999d-bae31343b0ae",
   "metadata": {},
   "outputs": [],
   "source": [
    "df = pd.read_csv('data1/survey_results_public.csv')\n",
    "schema_df = pd.read_csv('data1/survey_results_schema.csv')"
   ]
  },
  {
   "cell_type": "code",
   "execution_count": null,
   "id": "da3ffca1-2022-4a08-9eb1-7cea93644c0b",
   "metadata": {},
   "outputs": [],
   "source": [
    "pd.set_option('display.max_columns',85)\n",
    "pd.set_option('display.max_rows',85)"
   ]
  },
  {
   "cell_type": "code",
   "execution_count": null,
   "id": "d7de7c48-8cb4-4b53-81ba-ba9124e22399",
   "metadata": {},
   "outputs": [],
   "source": [
    "df.head()"
   ]
  },
  {
   "cell_type": "code",
   "execution_count": null,
   "id": "4045edf2-284b-43b6-a982-cb1e90693d57",
   "metadata": {},
   "outputs": [],
   "source": [
    "df['ConvertedComp'].head(15)"
   ]
  },
  {
   "cell_type": "code",
   "execution_count": null,
   "id": "0dee38a3-069b-4b29-b334-bc7859d9ddee",
   "metadata": {},
   "outputs": [],
   "source": [
    "df['ConvertedComp'].median()"
   ]
  },
  {
   "cell_type": "code",
   "execution_count": null,
   "id": "40b9618e-8dc8-404e-baf6-a56a3af2d2e4",
   "metadata": {},
   "outputs": [],
   "source": [
    "df.median()"
   ]
  },
  {
   "cell_type": "code",
   "execution_count": null,
   "id": "f3529b6f-a727-4a80-8220-78dfc341fe27",
   "metadata": {},
   "outputs": [],
   "source": [
    "df.describe()"
   ]
  },
  {
   "cell_type": "code",
   "execution_count": null,
   "id": "43e16942-1937-4551-9f8c-91bf29dd85ae",
   "metadata": {},
   "outputs": [],
   "source": [
    "df['ConvertedComp'].count()"
   ]
  },
  {
   "cell_type": "code",
   "execution_count": null,
   "id": "42690fb7-16a1-4631-9932-fed8daf2ae28",
   "metadata": {},
   "outputs": [],
   "source": [
    "df['Hobbyist']"
   ]
  },
  {
   "cell_type": "code",
   "execution_count": null,
   "id": "3411291c-c35d-47f2-b5ab-fffeda72a991",
   "metadata": {},
   "outputs": [],
   "source": [
    "df['Hobbyist'].value_counts()"
   ]
  },
  {
   "cell_type": "code",
   "execution_count": null,
   "id": "6a9b3c72-67a0-4fad-acd2-1d66ddaed821",
   "metadata": {},
   "outputs": [],
   "source": [
    "df['LanguageWorkedWith']"
   ]
  },
  {
   "cell_type": "code",
   "execution_count": null,
   "id": "9f0ac10b-391b-4921-a869-86fd9a8dafa5",
   "metadata": {},
   "outputs": [],
   "source": [
    "schema_df.loc[22]"
   ]
  },
  {
   "cell_type": "code",
   "execution_count": null,
   "id": "05144977-ae66-48c1-aef3-2e35523694e2",
   "metadata": {},
   "outputs": [],
   "source": [
    "df['LanguageWorkedWith'].value_counts()"
   ]
  },
  {
   "cell_type": "code",
   "execution_count": null,
   "id": "707dd777-b5b5-480e-b6cd-9c6f92206493",
   "metadata": {},
   "outputs": [],
   "source": [
    "df['LanguageWorkedWith'].value_counts(normalize=True)"
   ]
  },
  {
   "cell_type": "code",
   "execution_count": null,
   "id": "8e7cdf48-91ef-45c2-9131-181a1f40701a",
   "metadata": {},
   "outputs": [],
   "source": []
  }
 ],
 "metadata": {
  "kernelspec": {
   "display_name": "Python 3 (ipykernel)",
   "language": "python",
   "name": "python3"
  },
  "language_info": {
   "codemirror_mode": {
    "name": "ipython",
    "version": 3
   },
   "file_extension": ".py",
   "mimetype": "text/x-python",
   "name": "python",
   "nbconvert_exporter": "python",
   "pygments_lexer": "ipython3",
   "version": "3.12.2"
  }
 },
 "nbformat": 4,
 "nbformat_minor": 5
}
