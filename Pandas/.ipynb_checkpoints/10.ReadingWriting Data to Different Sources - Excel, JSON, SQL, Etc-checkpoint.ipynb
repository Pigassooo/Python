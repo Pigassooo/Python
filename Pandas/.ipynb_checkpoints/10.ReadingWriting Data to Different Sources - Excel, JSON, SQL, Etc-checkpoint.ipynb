{
 "cells": [
  {
   "cell_type": "code",
   "execution_count": null,
   "id": "c7016487-e812-4182-ad4d-172de977d307",
   "metadata": {},
   "outputs": [],
   "source": [
    "import pandas as pd"
   ]
  },
  {
   "cell_type": "code",
   "execution_count": null,
   "id": "061a45db-3ecf-46bd-9d81-b1b2e36b595a",
   "metadata": {},
   "outputs": [],
   "source": [
    "df = pd.read_csv('data1/survey_results_public.csv')\n",
    "schema_df = pd.read_csv('data1/survey_results_schema.csv')"
   ]
  },
  {
   "cell_type": "code",
   "execution_count": null,
   "id": "9e27a9e9-7856-419e-83b4-894e4497bdb3",
   "metadata": {},
   "outputs": [],
   "source": [
    "pd.set_option('display.max_columns',85)\n",
    "pd.set_option('display.max_rows',85)"
   ]
  },
  {
   "cell_type": "code",
   "execution_count": null,
   "id": "4c405d87-3145-4ba1-8dfe-06f37834e08a",
   "metadata": {},
   "outputs": [],
   "source": [
    "df.head()"
   ]
  },
  {
   "cell_type": "code",
   "execution_count": null,
   "id": "b5a5c664-e0ae-4282-b6c0-2f07f53ebc17",
   "metadata": {},
   "outputs": [],
   "source": [
    "filt = (df['Country'] == 'India')\n",
    "india_df = df.loc[filt]\n",
    "india_df.head()"
   ]
  },
  {
   "cell_type": "code",
   "execution_count": null,
   "id": "b973f526-676f-4aef-8638-44562a392cfe",
   "metadata": {},
   "outputs": [],
   "source": [
    "india_df.to_csv('data1/modified.csv')"
   ]
  },
  {
   "cell_type": "code",
   "execution_count": null,
   "id": "3e667435-af77-403d-8210-5947a25c4045",
   "metadata": {},
   "outputs": [],
   "source": [
    "india_df.to_csv('data1/modified.tsv',sep='\\t')"
   ]
  },
  {
   "cell_type": "code",
   "execution_count": null,
   "id": "9438c8bd-410d-44b2-96a3-d00c1dfe7da6",
   "metadata": {},
   "outputs": [],
   "source": [
    "india_df.to_excel('data1/modified.xlsx')"
   ]
  },
  {
   "cell_type": "code",
   "execution_count": null,
   "id": "900da87e-ae33-4458-9b14-e520ba3bb511",
   "metadata": {},
   "outputs": [],
   "source": [
    "test = pd.read_excel('data1/modified.xlsx', index_col='Respondent')"
   ]
  },
  {
   "cell_type": "code",
   "execution_count": null,
   "id": "1ab8021c-7c7e-4b99-86c6-ba0427f4e10a",
   "metadata": {},
   "outputs": [],
   "source": [
    "test.head()"
   ]
  },
  {
   "cell_type": "code",
   "execution_count": null,
   "id": "2d8a7c7f-d6ea-47ff-8e72-bcfff3058a33",
   "metadata": {},
   "outputs": [],
   "source": [
    "india_df.to_json('data1/modified.json')"
   ]
  }
 ],
 "metadata": {
  "kernelspec": {
   "display_name": "Python 3 (ipykernel)",
   "language": "python",
   "name": "python3"
  },
  "language_info": {
   "codemirror_mode": {
    "name": "ipython",
    "version": 3
   },
   "file_extension": ".py",
   "mimetype": "text/x-python",
   "name": "python",
   "nbconvert_exporter": "python",
   "pygments_lexer": "ipython3",
   "version": "3.12.2"
  }
 },
 "nbformat": 4,
 "nbformat_minor": 5
}
