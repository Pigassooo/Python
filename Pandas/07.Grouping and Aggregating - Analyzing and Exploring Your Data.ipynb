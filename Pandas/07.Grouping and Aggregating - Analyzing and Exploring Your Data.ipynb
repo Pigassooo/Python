{
 "cells": [
  {
   "cell_type": "code",
   "execution_count": null,
   "id": "909b4a81-361c-4b6f-9b63-157a802cc2d0",
   "metadata": {},
   "outputs": [],
   "source": [
    "import pandas as pd"
   ]
  },
  {
   "cell_type": "code",
   "execution_count": null,
   "id": "3cc1ca3e-2fed-42ae-999d-bae31343b0ae",
   "metadata": {},
   "outputs": [],
   "source": [
    "df = pd.read_csv('data1/survey_results_public.csv')\n",
    "schema_df = pd.read_csv('data1/survey_results_schema.csv')"
   ]
  },
  {
   "cell_type": "code",
   "execution_count": null,
   "id": "da3ffca1-2022-4a08-9eb1-7cea93644c0b",
   "metadata": {},
   "outputs": [],
   "source": [
    "pd.set_option('display.max_columns',85)\n",
    "pd.set_option('display.max_rows',85)"
   ]
  },
  {
   "cell_type": "code",
   "execution_count": null,
   "id": "d7de7c48-8cb4-4b53-81ba-ba9124e22399",
   "metadata": {},
   "outputs": [],
   "source": [
    "df.head()"
   ]
  },
  {
   "cell_type": "code",
   "execution_count": null,
   "id": "4045edf2-284b-43b6-a982-cb1e90693d57",
   "metadata": {},
   "outputs": [],
   "source": [
    "df['ConvertedComp'].head(15)"
   ]
  },
  {
   "cell_type": "code",
   "execution_count": null,
   "id": "0dee38a3-069b-4b29-b334-bc7859d9ddee",
   "metadata": {},
   "outputs": [],
   "source": [
    "df['ConvertedComp'].median()"
   ]
  },
  {
   "cell_type": "code",
   "execution_count": null,
   "id": "40b9618e-8dc8-404e-baf6-a56a3af2d2e4",
   "metadata": {},
   "outputs": [],
   "source": [
    "df.select_dtypes(include=['float64', 'int64']).median()"
   ]
  },
  {
   "cell_type": "code",
   "execution_count": null,
   "id": "f3529b6f-a727-4a80-8220-78dfc341fe27",
   "metadata": {},
   "outputs": [],
   "source": [
    "df.describe()"
   ]
  },
  {
   "cell_type": "code",
   "execution_count": null,
   "id": "43e16942-1937-4551-9f8c-91bf29dd85ae",
   "metadata": {},
   "outputs": [],
   "source": [
    "df['ConvertedComp'].count()"
   ]
  },
  {
   "cell_type": "code",
   "execution_count": null,
   "id": "42690fb7-16a1-4631-9932-fed8daf2ae28",
   "metadata": {},
   "outputs": [],
   "source": [
    "df['Hobbyist']"
   ]
  },
  {
   "cell_type": "code",
   "execution_count": null,
   "id": "3411291c-c35d-47f2-b5ab-fffeda72a991",
   "metadata": {},
   "outputs": [],
   "source": [
    "df['Hobbyist'].value_counts()"
   ]
  },
  {
   "cell_type": "code",
   "execution_count": null,
   "id": "6a9b3c72-67a0-4fad-acd2-1d66ddaed821",
   "metadata": {},
   "outputs": [],
   "source": [
    "df['LanguageWorkedWith']"
   ]
  },
  {
   "cell_type": "code",
   "execution_count": null,
   "id": "9f0ac10b-391b-4921-a869-86fd9a8dafa5",
   "metadata": {},
   "outputs": [],
   "source": [
    "schema_df.loc[22]"
   ]
  },
  {
   "cell_type": "code",
   "execution_count": null,
   "id": "05144977-ae66-48c1-aef3-2e35523694e2",
   "metadata": {},
   "outputs": [],
   "source": [
    "df['LanguageWorkedWith'].value_counts()"
   ]
  },
  {
   "cell_type": "code",
   "execution_count": null,
   "id": "707dd777-b5b5-480e-b6cd-9c6f92206493",
   "metadata": {},
   "outputs": [],
   "source": [
    "df['LanguageWorkedWith'].value_counts(normalize=True)"
   ]
  },
  {
   "cell_type": "code",
   "execution_count": null,
   "id": "8e7cdf48-91ef-45c2-9131-181a1f40701a",
   "metadata": {},
   "outputs": [],
   "source": [
    "df['Country'].value_counts()"
   ]
  },
  {
   "cell_type": "code",
   "execution_count": null,
   "id": "71ca91ae-23d2-4e82-81a9-e7e9542d1fda",
   "metadata": {},
   "outputs": [],
   "source": [
    "country_grp = df.groupby(['Country'])"
   ]
  },
  {
   "cell_type": "code",
   "execution_count": null,
   "id": "0fd6cfee-5f6e-4fa2-abac-3d871306ad1a",
   "metadata": {},
   "outputs": [],
   "source": [
    "country_grp.get_group(('United States',))"
   ]
  },
  {
   "cell_type": "code",
   "execution_count": null,
   "id": "d37d2139-afd2-4d82-9be3-79158259765c",
   "metadata": {},
   "outputs": [],
   "source": [
    "filt = df['Country'] == 'India'\n",
    "df.loc[filt]['Age'].value_counts()"
   ]
  },
  {
   "cell_type": "code",
   "execution_count": null,
   "id": "edf5b927-6415-47e8-aee8-8140ff8df6a3",
   "metadata": {},
   "outputs": [],
   "source": [
    "df.loc[filt]['Age'].describe()"
   ]
  },
  {
   "cell_type": "code",
   "execution_count": null,
   "id": "9c6c0159-a342-426c-aef6-a763ecfe041c",
   "metadata": {},
   "outputs": [],
   "source": [
    "country_grp['Age'].value_counts(normalize=True).loc['China'].head(10)"
   ]
  },
  {
   "cell_type": "code",
   "execution_count": null,
   "id": "60775d7d-f37d-4cb7-af96-76012d67c2e6",
   "metadata": {},
   "outputs": [],
   "source": [
    "country_grp['ConvertedComp'].median().loc['Japan']"
   ]
  },
  {
   "cell_type": "code",
   "execution_count": null,
   "id": "5309fba1-0067-4cf2-8517-34208070cdae",
   "metadata": {},
   "outputs": [],
   "source": [
    "country_grp['ConvertedComp'].agg(['median', 'mean']).loc['Australia']"
   ]
  },
  {
   "cell_type": "code",
   "execution_count": null,
   "id": "c52d2b35-5dde-4648-8b48-94c0fb4bdb97",
   "metadata": {},
   "outputs": [],
   "source": [
    "filt = df['Country'] == 'India'\n",
    "df.loc[filt]['LanguageWorkedWith'].str.contains('Python').sum()"
   ]
  },
  {
   "cell_type": "code",
   "execution_count": null,
   "id": "1356ae9c-5803-4e8a-b9f2-f00dc4a857b4",
   "metadata": {},
   "outputs": [],
   "source": [
    "country_grp['LanguageWorkedWith'].apply(lambda x: x.str.contains('Python').sum())"
   ]
  },
  {
   "cell_type": "code",
   "execution_count": null,
   "id": "a9037cc5-3298-4be3-a59b-017036a0aaf6",
   "metadata": {},
   "outputs": [],
   "source": [
    "country_respondents = df['Country'].value_counts()\n",
    "country_respondents"
   ]
  },
  {
   "cell_type": "code",
   "execution_count": null,
   "id": "3b9888ca-7b40-47a0-9a31-49f12101a0f4",
   "metadata": {},
   "outputs": [],
   "source": [
    "country_uses_python = country_grp['LanguageWorkedWith'].apply(lambda x: x.str.contains('Python').sum())\n",
    "country_uses_python"
   ]
  },
  {
   "cell_type": "code",
   "execution_count": null,
   "id": "48eeff8a-1977-4c10-a23b-26628372c83c",
   "metadata": {},
   "outputs": [],
   "source": [
    "python_df = pd.concat([country_respondents,country_uses_python], axis='columns',sort=False)\n",
    "python_df"
   ]
  },
  {
   "cell_type": "code",
   "execution_count": null,
   "id": "5e2d94fe-6718-44f3-a2be-0e694bb8236e",
   "metadata": {},
   "outputs": [],
   "source": [
    "python_df.rename(columns={'count':'NumRespondents','LanguageWorkedWith':'NumKnowsPython'},inplace=True)"
   ]
  },
  {
   "cell_type": "code",
   "execution_count": null,
   "id": "2174153d-62e9-4e22-a6cd-3a0260c5b55b",
   "metadata": {},
   "outputs": [],
   "source": [
    "python_df"
   ]
  },
  {
   "cell_type": "code",
   "execution_count": null,
   "id": "fe1bec3c-1f39-4580-9a97-a2eabbde60e7",
   "metadata": {},
   "outputs": [],
   "source": [
    "python_df['PctKnowsPython'] = (python_df['NumKnowsPython']/python_df['NumRespondents'])*100"
   ]
  },
  {
   "cell_type": "code",
   "execution_count": null,
   "id": "76b0b443-9acc-4027-9137-8e14114716f0",
   "metadata": {},
   "outputs": [],
   "source": [
    "python_df"
   ]
  },
  {
   "cell_type": "code",
   "execution_count": null,
   "id": "33e678c9-7a68-4b08-af90-208a5f69bd6b",
   "metadata": {},
   "outputs": [],
   "source": [
    "python_df.sort_values(by='PctKnowsPython',ascending=False,inplace=True)"
   ]
  },
  {
   "cell_type": "code",
   "execution_count": null,
   "id": "eb6fb528-f976-4f06-b34d-64235b50c840",
   "metadata": {},
   "outputs": [],
   "source": [
    "python_df.head(50)"
   ]
  },
  {
   "cell_type": "code",
   "execution_count": null,
   "id": "ee06f356-d939-49eb-876c-92e8f4134167",
   "metadata": {},
   "outputs": [],
   "source": [
    "python_df.loc['Japan']"
   ]
  }
 ],
 "metadata": {
  "kernelspec": {
   "display_name": "Python 3 (ipykernel)",
   "language": "python",
   "name": "python3"
  },
  "language_info": {
   "codemirror_mode": {
    "name": "ipython",
    "version": 3
   },
   "file_extension": ".py",
   "mimetype": "text/x-python",
   "name": "python",
   "nbconvert_exporter": "python",
   "pygments_lexer": "ipython3",
   "version": "3.12.2"
  }
 },
 "nbformat": 4,
 "nbformat_minor": 5
}
